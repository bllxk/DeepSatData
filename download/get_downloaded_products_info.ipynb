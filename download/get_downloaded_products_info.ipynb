{
 "cells": [
  {
   "cell_type": "code",
   "execution_count": 2,
   "id": "generic-astronomy",
   "metadata": {},
   "outputs": [],
   "source": [
    "import os\n",
    "import numpy as np\n",
    "import pandas as pd\n",
    "from glob import glob\n",
    "from datetime import datetime\n",
    "import matplotlib.pyplot as plt\n",
    "%matplotlib inline\n",
    "if __name__ == \"__main__\" and __package__ is None:\n",
    "    from sys import path\n",
    "    from os.path import dirname as dir\n",
    "    path.append(dir(path[0]))\n",
    "    __package__ = \"examples\"\n",
    "from utils.sentinel_products_utils import get_S2prod_info\n",
    "from utils.date_utils import get_doy"
   ]
  },
  {
   "cell_type": "markdown",
   "id": "activated-audit",
   "metadata": {},
   "source": [
    "### User input"
   ]
  },
  {
   "cell_type": "code",
   "execution_count": 3,
   "id": "personal-metallic",
   "metadata": {},
   "outputs": [],
   "source": [
    "products_dir = \"/media/michaeltrs/sdb/HD2/Data/Satellite_Imagery/RadiantEarth/Sentinel2/Ghana\"\n",
    "# \"/media/michaeltrs/0a8a5a48-ede5-47d0-8eff-10d11350bf98/Satellite_Data/Sentinel2/MTLCC_AOI_2016_2017/S2PRODUCTS\"\n",
    "# \"/media/michaeltrs/0a8a5a48-ede5-47d0-8eff-10d11350bf98/Satellite_Data/Sentinel2/France/T31TFL/2018\"\n",
    "ext = \".zip\"  # \".SAFE\""
   ]
  },
  {
   "cell_type": "markdown",
   "id": "flexible-paper",
   "metadata": {},
   "source": [
    "### Find products \n",
    "\n",
    "If a directory contains yest unzipped products we will parse product info from the filename following the [Sentinel product naming convention](https://sentinel.esa.int/web/sentinel/user-guides/sentinel-2-msi/naming-convention).\n",
    "\n",
    "#### Compact Naming Convention\n",
    "\n",
    "The compact naming convention is arranged as follows:\n",
    "\n",
    "MMM_MSIXXX_YYYYMMDDHHMMSS_Nxxyy_ROOO_Txxxxx_<Product Discriminator>.ext\n",
    "\n",
    "The products contain two dates.\n",
    "\n",
    "The first date (YYYYMMDDHHMMSS) is the datatake sensing time.\n",
    "The second date is the \"<Product Discriminator>\" field, which is 15 characters in length, and is used to distinguish between different end user products from the same datatake. Depending on the instance, the time in this field can be earlier or slightly later than the datatake sensing time.\n",
    "\n",
    "The other components of the filename are:\n",
    "\n",
    "- MMM: is the mission ID(S2A/S2B)\n",
    "- MSIXXX: MSIL1C denotes the Level-1C product level/ MSIL2A denotes the Level-2A product level\n",
    "- YYYYMMDDHHMMSS: the datatake sensing start time\n",
    "- Nxxyy: the PDGS Processing Baseline number (e.g. N0204)\n",
    "- ROOO: Relative Orbit number (R001 - R143)\n",
    "- Txxxxx: Tile Number field\n",
    "- ext: file extension either zip or SAFE: Product Format (Standard Archive Format for Europe)\n"
   ]
  },
  {
   "cell_type": "code",
   "execution_count": 4,
   "id": "fifty-wedding",
   "metadata": {},
   "outputs": [
    {
     "name": "stdout",
     "output_type": "stream",
     "text": [
      "num data:  35\n",
      "                                             filename   tile platformname  \\\n",
      "20  S2A_MSIL1C_20160103T102432_N0201_R065_T30PZR_2...  30PZR   Sentinel-2   \n",
      "32  S2A_MSIL1C_20160113T102402_N0201_R065_T30PZR_2...  30PZR   Sentinel-2   \n",
      "28  S2A_MSIL1C_20160123T102322_N0201_R065_T30PZR_2...  30PZR   Sentinel-2   \n",
      "23  S2A_MSIL1C_20160212T102132_N0201_R065_T30PZR_2...  30PZR   Sentinel-2   \n",
      "22  S2A_MSIL1C_20160212T102132_N0201_R065_T30PYR_2...  30PYR   Sentinel-2   \n",
      "\n",
      "   processinglevel  year      date          Mb  doy  \n",
      "20        Level-1C  2016  20160103  691.029618    3  \n",
      "32        Level-1C  2016  20160113  776.087364   13  \n",
      "28        Level-1C  2016  20160123  783.932004   23  \n",
      "23        Level-1C  2016  20160212  723.484885   43  \n",
      "22        Level-1C  2016  20160212  782.622647   43  \n"
     ]
    }
   ],
   "source": [
    "filenames = [os.path.basename(fn) for fn in glob(\"%s/*%s\" % (products_dir, ext))]\n",
    "# print(filenames)\n",
    "prodinfo = []\n",
    "for fn in filenames:\n",
    "    info = fn.split('_')\n",
    "    year = info[2][:4]\n",
    "    date = info[2][:8]\n",
    "    size = int(os.path.getsize(os.path.join(products_dir, fn)))/1e6\n",
    "    tile = info[5][1:]\n",
    "    platformname = \"Sentinel-%s\" % info[0][1]\n",
    "    processinglevel = \"Level-%s\" % info[1][-2:]\n",
    "    prodinfo.append([fn, tile, platformname, processinglevel, year, date, size])\n",
    "prodinfo = pd.DataFrame(\n",
    "        prodinfo, columns=['filename', 'tile', 'platformname', 'processinglevel', 'year', 'date', 'Mb'])\n",
    "prodinfo['doy'] = prodinfo['date'].apply(lambda s: get_doy(s))\n",
    "prodinfo = prodinfo.sort_values('doy')\n",
    "print(\"num data: \", prodinfo.shape[0])\n",
    "print(prodinfo.head(5))"
   ]
  },
  {
   "cell_type": "markdown",
   "id": "medium-owner",
   "metadata": {},
   "source": [
    "### Visualize downloaded product dates"
   ]
  },
  {
   "cell_type": "code",
   "execution_count": 5,
   "id": "announced-mongolia",
   "metadata": {},
   "outputs": [
    {
     "data": {
      "text/plain": [
       "<matplotlib.legend.Legend at 0x7f896792f7f0>"
      ]
     },
     "execution_count": 5,
     "metadata": {},
     "output_type": "execute_result"
    },
    {
     "data": {
      "image/png": "[encoded data removed]",
      "text/plain": [
       "<Figure size 432x288 with 1 Axes>"
      ]
     },
     "metadata": {
      "needs_background": "light"
     },
     "output_type": "display_data"
    }
   ],
   "source": [
    "plt.title(\"%d products found for %s\" % \n",
    "          (prodinfo['doy'].shape[0], \",\".join(prodinfo['year'].drop_duplicates().tolist())))\n",
    "plt.scatter(prodinfo['doy'].values, np.zeros(prodinfo.shape[0]), s=20, c='b')\n",
    "#plt.scatter(uniform_doy_list, np.zeros(selected_doys.shape[0]), s=20, c='r')\n",
    "plt.vlines(prodinfo['doy'].values, 0, 1, color='b', label='downloaded')\n",
    "# plt.vlines(uniform_doy_list, 0, -1, color='r', label='uniform')\n",
    "plt.hlines(0, 1, 365, color='k', alpha=0.3)\n",
    "plt.ylim(-0.1, 1)\n",
    "plt.xlim(0, 365)\n",
    "plt.yticks([], [])\n",
    "plt.xlabel('day of year')\n",
    "plt.legend(bbox_to_anchor=(1.35, 1))"
   ]
  },
  {
   "cell_type": "markdown",
   "id": "concrete-wildlife",
   "metadata": {},
   "source": [
    "### Save downloaded products to disk"
   ]
  },
  {
   "cell_type": "code",
   "execution_count": 53,
   "id": "thermal-examination",
   "metadata": {},
   "outputs": [
    {
     "name": "stdout",
     "output_type": "stream",
     "text": [
      "saving products info to /media/michaeltrs/0a8a5a48-ede5-47d0-8eff-10d11350bf98/Satellite_Data/Sentinel2/France/T31TFL/2018/cloud_0_20/downloaded_as_of_20210115_170411.csv\n"
     ]
    }
   ],
   "source": [
    "savename = '%s/downloaded_as_of_%s.csv' % \\\n",
    "           (products_dir, datetime.now().strftime('%Y%m%d_%H%M%S'))\n",
    "\n",
    "if not os.path.exists(os.path.dirname(savename)):\n",
    "    print(\"making new directory %s\" % os.path.dirname(savename))\n",
    "    os.makedirs(os.path.dirname(savename))\n",
    "\n",
    "print(\"saving products info to %s\" % savename)\n",
    "prodinfo.to_csv(savename, index=False)"
   ]
  }
 ],
 "metadata": {
  "kernelspec": {
   "display_name": "Python 3",
   "language": "python",
   "name": "python3"
  },
  "language_info": {
   "codemirror_mode": {
    "name": "ipython",
    "version": 3
   },
   "file_extension": ".py",
   "mimetype": "text/x-python",
   "name": "python",
   "nbconvert_exporter": "python",
   "pygments_lexer": "ipython3",
   "version": "3.8.2"
  }
 },
 "nbformat": 4,
 "nbformat_minor": 5
}
